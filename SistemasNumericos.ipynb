{
  "nbformat": 4,
  "nbformat_minor": 0,
  "metadata": {
    "colab": {
      "provenance": [],
      "authorship_tag": "ABX9TyOo5+FLKpiQzQf32D+DG9JA",
      "include_colab_link": true
    },
    "kernelspec": {
      "name": "python3",
      "display_name": "Python 3"
    },
    "language_info": {
      "name": "python"
    }
  },
  "cells": [
    {
      "cell_type": "markdown",
      "metadata": {
        "id": "view-in-github",
        "colab_type": "text"
      },
      "source": [
        "<a href=\"https://colab.research.google.com/github/maryandy2002/maryandy2002/blob/main/SistemasNumericos.ipynb\" target=\"_parent\"><img src=\"https://colab.research.google.com/assets/colab-badge.svg\" alt=\"Open In Colab\"/></a>"
      ]
    },
    {
      "cell_type": "markdown",
      "source": [
        "# <font color=blue>Sistemas Numéricos</font>\n",
        "\n",
        "En computación, los sistemas numéricos que nos interesan son:\n",
        "*   Binario\n",
        "*   Octal\n",
        "*   Hexadecimal\n",
        "\n",
        "Python nos proporciona funciones las funciones <font color=red>bin(), oct(), hex()</font>, para pasar un número en base 10 a binario, octal o hexadecimal, respectivamente.\n",
        "\n",
        "Vemos un ejemplo del uso de estas funciones a continuación:"
      ],
      "metadata": {
        "id": "D4_wE7vAWIGd"
      }
    },
    {
      "cell_type": "code",
      "source": [
        "numero=26\n",
        "print(numero,'en sistema binario es ',bin(numero))\n",
        "print(numero,'en sistema octal es ',oct(numero))\n",
        "print(numero,'en sistema hexadecimal ',hex(numero))"
      ],
      "metadata": {
        "colab": {
          "base_uri": "https://localhost:8080/"
        },
        "id": "zULbIRsAP3oG",
        "outputId": "4002fbd8-c5c7-47e0-f444-dff269fbe4ee"
      },
      "execution_count": 5,
      "outputs": [
        {
          "output_type": "stream",
          "name": "stdout",
          "text": [
            "26 en sistema binario es  0b11010\n",
            "26 en sistema octal es  0o32\n",
            "26 en sistema hexadecimal  0x1a\n"
          ]
        }
      ]
    },
    {
      "cell_type": "markdown",
      "source": [
        "He realizado una función que convierte un número base 10 a binario, sin utilizar la función de python"
      ],
      "metadata": {
        "id": "fd-FSdvYX3nc"
      }
    },
    {
      "cell_type": "code",
      "source": [
        "nx = 15445              #número base 10 que se quiere convertir a binario\n",
        "lista=[]                #generación de lista vacía\n",
        "while (nx>0):           #inicio de bucle que se detendrá cuando el cociente del número entre 2 sea 0\n",
        "  lista.insert(0,nx%2)  #la función insert, agregara el elemento que queremos en la posicion que queremos de la lista\n",
        "  nx=nx//2              #división entera del número\n",
        "lista                   #impresión de la lista final"
      ],
      "metadata": {
        "colab": {
          "base_uri": "https://localhost:8080/"
        },
        "id": "JSDfb_QXRhFe",
        "outputId": "a9caf9b3-d31d-4c7d-c338-400acb9bbfef"
      },
      "execution_count": 21,
      "outputs": [
        {
          "output_type": "execute_result",
          "data": {
            "text/plain": [
              "[1, 1, 1, 1, 0, 0, 0, 1, 0, 1, 0, 1, 0, 1]"
            ]
          },
          "metadata": {},
          "execution_count": 21
        }
      ]
    },
    {
      "cell_type": "markdown",
      "source": [
        "Si lo que queremos es convertir a una base octal simplemente tendriamos que modificar el código anterior de modo que, en vez de obtener el modulo y la division entera con 2, hacerlo con 8.\n",
        "\n",
        "El código a continuación convierte números decimales base 10 en enteros, el método es similar al de los números enteros pero en vez de ir dividiendo por 2 y guardando los residuos, lo que se hace es multiplicar por 2 y guardar la parte entera."
      ],
      "metadata": {
        "id": "pMFCKWmaZ5E0"
      }
    },
    {
      "cell_type": "code",
      "source": [
        "nx = 0.125              #número decimal base 10 que se quiere convertir a binario\n",
        "lista=[0,\".\"]           #generación de lista que guardara e binario\n",
        "d=1                     #variable que va a guardar la parte decimal, resante\n",
        "while (d>0):                  #inicio de bucle que se detendrá cuando ya no se tenga parte decimal\n",
        "  d=nx-(nx//1)                #evolucion de la parte decimal\n",
        "  lista.append(int(nx//1))    #la función append, agrega el elemento que queremos al final de la lista\n",
        "  nx=nx*2               #multiplicación entera del número\n",
        "lista                   #impresión de la lista final"
      ],
      "metadata": {
        "colab": {
          "base_uri": "https://localhost:8080/"
        },
        "id": "eHbBYhiAdjmb",
        "outputId": "43c9ab17-4121-436d-a0d4-af1ae3345b2f"
      },
      "execution_count": 4,
      "outputs": [
        {
          "output_type": "execute_result",
          "data": {
            "text/plain": [
              "[0, '.', 0, 0, 0, 1]"
            ]
          },
          "metadata": {},
          "execution_count": 4
        }
      ]
    }
  ]
}