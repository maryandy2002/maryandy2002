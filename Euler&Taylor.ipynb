{
  "nbformat": 4,
  "nbformat_minor": 0,
  "metadata": {
    "colab": {
      "provenance": [],
      "authorship_tag": "ABX9TyOqfVwzf4GdbgDr5J5NwkES",
      "include_colab_link": true
    },
    "kernelspec": {
      "name": "python3",
      "display_name": "Python 3"
    },
    "language_info": {
      "name": "python"
    }
  },
  "cells": [
    {
      "cell_type": "markdown",
      "metadata": {
        "id": "view-in-github",
        "colab_type": "text"
      },
      "source": [
        "<a href=\"https://colab.research.google.com/github/maryandy2002/maryandy2002/blob/main/Euler%26Taylor.ipynb\" target=\"_parent\"><img src=\"https://colab.research.google.com/assets/colab-badge.svg\" alt=\"Open In Colab\"/></a>"
      ]
    },
    {
      "cell_type": "markdown",
      "source": [
        "## Método de Euler\n",
        "El objetivo del método de Euler es obtener aproximaciones para el problema de valor inicial bien planteado:"
      ],
      "metadata": {
        "id": "gzNGs8dzI5-w"
      }
    },
    {
      "cell_type": "markdown",
      "source": [
        "* $\\frac{dy}{dt}=f(y,t)$\n",
        "* $a\\leq t \\leq b$\n",
        "* y(a)=α\n",
        "\n"
      ],
      "metadata": {
        "id": "semxbUPEJg_d"
      }
    },
    {
      "cell_type": "markdown",
      "source": [
        "El método de Euler es:\n"
      ],
      "metadata": {
        "id": "PgO-y73QKUYy"
      }
    },
    {
      "cell_type": "markdown",
      "source": [
        "* w_0=α\n",
        "* $w_{i+1}=w_i + hf(t_i,w_i)$ para cada $i=0,1,...N-1$"
      ],
      "metadata": {
        "id": "7Owt730GKYp4"
      }
    },
    {
      "cell_type": "markdown",
      "source": [
        "donde $h = t_{i+1}-t_i$, es decirel tamaño de paso que se debe considerara para tener $N$ secciones en el intervalo $(a,b)$"
      ],
      "metadata": {
        "id": "7sUhShKPKydV"
      }
    },
    {
      "cell_type": "code",
      "execution_count": 1,
      "metadata": {
        "colab": {
          "base_uri": "https://localhost:8080/"
        },
        "id": "HRzQ576ZaAna",
        "outputId": "e44ff0fa-cec5-4f9f-f665-ce7299fcaac0"
      },
      "outputs": [
        {
          "output_type": "stream",
          "name": "stdout",
          "text": [
            "+-----+---------+----------+-----------+\n",
            "|   t |       w |        y |     |y-w| |\n",
            "+=====+=========+==========+===========+\n",
            "| 0   | 0.5     | 0.5      | 0         |\n",
            "+-----+---------+----------+-----------+\n",
            "| 0.2 | 0.8     | 0.829299 | 0.0292986 |\n",
            "+-----+---------+----------+-----------+\n",
            "| 0.4 | 1.152   | 1.21409  | 0.0620877 |\n",
            "+-----+---------+----------+-----------+\n",
            "| 0.6 | 1.5504  | 1.64894  | 0.0985406 |\n",
            "+-----+---------+----------+-----------+\n",
            "| 0.8 | 1.98848 | 2.12723  | 0.13875   |\n",
            "+-----+---------+----------+-----------+\n",
            "| 1   | 2.45818 | 2.64086  | 0.182683  |\n",
            "+-----+---------+----------+-----------+\n",
            "| 1.2 | 2.94981 | 3.17994  | 0.23013   |\n",
            "+-----+---------+----------+-----------+\n",
            "| 1.4 | 3.45177 | 3.7324   | 0.280627  |\n",
            "+-----+---------+----------+-----------+\n",
            "| 1.6 | 3.95013 | 4.28348  | 0.333356  |\n",
            "+-----+---------+----------+-----------+\n",
            "| 1.8 | 4.42815 | 4.81518  | 0.387023  |\n",
            "+-----+---------+----------+-----------+\n",
            "| 2   | 4.86578 | 5.30547  | 0.439687  |\n",
            "+-----+---------+----------+-----------+\n"
          ]
        }
      ],
      "source": [
        "from tabulate import tabulate\n",
        "import math as mt\n",
        "\n",
        "def euler(a,b,N,al):\n",
        "  h=(b-a)/N\n",
        "  t=[a]\n",
        "  w=[al]\n",
        "  y=[]\n",
        "  e=[]\n",
        "  for i in range(1,N+2):\n",
        "    y.append((t[i-1]+1)**2-0.5*(mt.e**t[i-1]))\n",
        "    w.append(w[i-1]+h*(w[i-1]-t[i-1]**2+1))\n",
        "    t.append(a+h*i)\n",
        "\n",
        "  for i in range(len(y)):\n",
        "    e.append(abs(y[i]-w[i]))\n",
        "\n",
        "  headers=[\"t\",\"w\",\"y\",\"|y-w|\"]\n",
        "  print(tabulate(zip(t,w,y,e),headers=headers,tablefmt=\"grid\"))\n",
        "\n",
        "euler(0,2,10,0.5)"
      ]
    },
    {
      "cell_type": "markdown",
      "source": [
        "# Método de Taylor\n",
        "El método de Euler no es mas que el metodo de Taylor cuando el orden es uno, por lo tanto a continuacion se generaliza para cualquier orden $n$"
      ],
      "metadata": {
        "id": "D3Yf6GyBLIa3"
      }
    },
    {
      "cell_type": "code",
      "source": [
        "from tabulate import tabulate\n",
        "import math as mt\n",
        "import sympy as sp\n",
        "\n",
        "def taylor(a, b, N, al, orden):\n",
        "    t = sp.Symbol('t')\n",
        "    y = sp.Function('y')(t)\n",
        "    f = y - t**2 + 1  # f(t, y) del ejemplo 1\n",
        "\n",
        "    # Generar derivadas de f hasta el orden indicado\n",
        "    derivadas = [f]\n",
        "    for i in range(1, orden):\n",
        "        deriv = sp.diff(derivadas[-1], t)\n",
        "        deriv = deriv.subs(sp.Derivative(y, t), derivadas[0])\n",
        "        derivadas.append(deriv)\n",
        "\n",
        "    # Convertir derivadas a funciones numéricas\n",
        "    Fs = [sp.lambdify((t, y), d) for d in derivadas]\n",
        "\n",
        "    h = (b - a) / N\n",
        "    ts = [a]\n",
        "    ws = [al]\n",
        "    ys = []\n",
        "    es = []\n",
        "\n",
        "    for i in range(1, N+2):\n",
        "        tn = ts[i-1]\n",
        "        wn = ws[i-1]\n",
        "\n",
        "        # Solución exacta\n",
        "        y_exact = (tn + 1)**2 - 0.5 * mt.exp(tn)\n",
        "        ys.append(y_exact)\n",
        "\n",
        "        # Evaluar la serie de Taylor\n",
        "        w_next = wn\n",
        "        for k in range(orden):\n",
        "            w_next += (h**(k+1) / mt.factorial(k+1)) * Fs[k](tn, wn)\n",
        "\n",
        "        ws.append(w_next)\n",
        "        ts.append(a + i*h)\n",
        "\n",
        "    for i in range(len(ys)):\n",
        "        es.append(abs(ys[i] - ws[i]))\n",
        "\n",
        "    headers = [\"t\", \"w (Taylor)\", \"y (Exacta)\", \"|y - w|\"]\n",
        "    print(tabulate(zip(ts[:-1], ws[:-1], ys, es), headers=headers, tablefmt=\"grid\"))\n",
        "\n",
        "# Prueba con el ejemplo del Burden, orden 4\n",
        "taylor(0, 2, 10, 0.5, orden=4)"
      ],
      "metadata": {
        "colab": {
          "base_uri": "https://localhost:8080/"
        },
        "id": "K1sI1aXhhqz4",
        "outputId": "4ebbfda6-e217-43cc-89d8-abecf3093d49"
      },
      "execution_count": null,
      "outputs": [
        {
          "output_type": "stream",
          "name": "stdout",
          "text": [
            "+-----+--------------+--------------+-------------+\n",
            "|   t |   w (Taylor) |   y (Exacta) |     |y - w| |\n",
            "+=====+==============+==============+=============+\n",
            "| 0   |      0.5     |     0.5      | 0           |\n",
            "+-----+--------------+--------------+-------------+\n",
            "| 0.2 |      0.8293  |     0.829299 | 1.37908e-06 |\n",
            "+-----+--------------+--------------+-------------+\n",
            "| 0.4 |      1.21409 |     1.21409  | 3.36882e-06 |\n",
            "+-----+--------------+--------------+-------------+\n",
            "| 0.6 |      1.64895 |     1.64894  | 6.17202e-06 |\n",
            "+-----+--------------+--------------+-------------+\n",
            "| 0.8 |      2.12724 |     2.12723  | 1.00514e-05 |\n",
            "+-----+--------------+--------------+-------------+\n",
            "| 1   |      2.64087 |     2.64086  | 1.53459e-05 |\n",
            "+-----+--------------+--------------+-------------+\n",
            "| 1.2 |      3.17996 |     3.17994  | 2.24922e-05 |\n",
            "+-----+--------------+--------------+-------------+\n",
            "| 1.4 |      3.73243 |     3.7324   | 3.20507e-05 |\n",
            "+-----+--------------+--------------+-------------+\n",
            "| 1.6 |      4.28353 |     4.28348  | 4.47392e-05 |\n",
            "+-----+--------------+--------------+-------------+\n",
            "| 1.8 |      4.81524 |     4.81518  | 6.14751e-05 |\n",
            "+-----+--------------+--------------+-------------+\n",
            "| 2   |      5.30556 |     5.30547  | 8.34286e-05 |\n",
            "+-----+--------------+--------------+-------------+\n"
          ]
        }
      ]
    }
  ]
}