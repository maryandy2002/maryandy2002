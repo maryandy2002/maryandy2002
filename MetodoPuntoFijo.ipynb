{
  "nbformat": 4,
  "nbformat_minor": 0,
  "metadata": {
    "colab": {
      "provenance": [],
      "authorship_tag": "ABX9TyPRSXUmB6CLKl/ccxYUIqZp",
      "include_colab_link": true
    },
    "kernelspec": {
      "name": "python3",
      "display_name": "Python 3"
    },
    "language_info": {
      "name": "python"
    }
  },
  "cells": [
    {
      "cell_type": "markdown",
      "metadata": {
        "id": "view-in-github",
        "colab_type": "text"
      },
      "source": [
        "<a href=\"https://colab.research.google.com/github/maryandy2002/maryandy2002/blob/main/MetodoPuntoFijo.ipynb\" target=\"_parent\"><img src=\"https://colab.research.google.com/assets/colab-badge.svg\" alt=\"Open In Colab\"/></a>"
      ]
    },
    {
      "cell_type": "markdown",
      "source": [
        "# Método de Punto Fijo\n",
        "Utilizaremos el método de punto fijo para encontrar la solución de la ecuación $x^3+4x^2-10=0$ la cual tiene una raíz única en $[1,2]$\n",
        "\n"
      ],
      "metadata": {
        "id": "mPU3QuWQ1jd4"
      }
    },
    {
      "cell_type": "markdown",
      "source": [
        "En este bloque importamos las librerías que se van a utilizar, $tabulate$ para crear una tabla al final para visualizar los resultados y $math$ para codificar la función que usaremos para aproximar la raíz"
      ],
      "metadata": {
        "id": "tAIlqGrc3gTz"
      }
    },
    {
      "cell_type": "code",
      "execution_count": 3,
      "metadata": {
        "id": "XEi11TezB1up"
      },
      "outputs": [],
      "source": [
        "from tabulate import tabulate as tb\n",
        "import math as mt"
      ]
    },
    {
      "cell_type": "markdown",
      "source": [
        "Existen muchas formas para cambiar la ecuación que estamos trabajando a la forma de punto fijo $x=f(x)$, en éste codigo utilizaremos la siguiente: $x=g(x)=\\sqrt{\\frac{10}{4+x}}$, la cuál esta codificada a continuación con ayuda de la librerira $math$"
      ],
      "metadata": {
        "id": "098on1y434kj"
      }
    },
    {
      "cell_type": "code",
      "source": [
        "def funcion(x):\n",
        "  return mt.sqrt(10/(4+x))"
      ],
      "metadata": {
        "id": "Y21TGGvyB8GV"
      },
      "execution_count": 14,
      "outputs": []
    },
    {
      "cell_type": "markdown",
      "source": [
        "Aqui se definen nuestras listas $n$ para ir contando la cantidad de iteraciones, $e$ para ir calculando el error aproximado y $p$ que es donde iremos guardando las aproximaciones a la raíz que vayamos obteniendo"
      ],
      "metadata": {
        "id": "Axivc3Se5HC2"
      }
    },
    {
      "cell_type": "code",
      "source": [
        "n=[0]\n",
        "e=[0]\n",
        "p=[1.5]"
      ],
      "metadata": {
        "id": "Haw5uDjMCfV0"
      },
      "execution_count": 17,
      "outputs": []
    },
    {
      "cell_type": "markdown",
      "source": [
        "En este bloque se llevan a cabo las iteraciones del método de punto fijo, el cuál, termina cuando se ha alcanzado un error menor a $10^7$"
      ],
      "metadata": {
        "id": "KgQP2kGD5emW"
      }
    },
    {
      "cell_type": "code",
      "source": [
        "while (True):\n",
        "  p.append(funcion(p[-1]))\n",
        "  e.append(abs(p[-1]-p[-2]))\n",
        "  if (e[-1]<0.0000001):\n",
        "    break\n",
        "  n.append(n[-1]+1)"
      ],
      "metadata": {
        "id": "2k6_o2HMKlEy"
      },
      "execution_count": 20,
      "outputs": []
    },
    {
      "cell_type": "markdown",
      "source": [
        "Finalmente se realiza la tabla correspondiente al procedimiento que se acaba de realizar utilizando el método de punto fijo"
      ],
      "metadata": {
        "id": "l3W6fFK256GM"
      }
    },
    {
      "cell_type": "code",
      "source": [
        "table=[n,p,e]\n",
        "print(tb((zip(*table)),headers=[\"n\",\"p\",\"e\"]))"
      ],
      "metadata": {
        "colab": {
          "base_uri": "https://localhost:8080/"
        },
        "id": "4ZvQGAz9LTua",
        "outputId": "a70db238-ee67-409e-dbf3-768cc96f5630"
      },
      "execution_count": 21,
      "outputs": [
        {
          "output_type": "stream",
          "name": "stdout",
          "text": [
            "  n        p            e\n",
            "---  -------  -----------\n",
            "  0  1.5      0\n",
            "  1  1.3484   0.1516\n",
            "  2  1.36738  0.0189766\n",
            "  3  1.36496  0.00241936\n",
            "  4  1.36526  0.000307733\n",
            "  5  1.36523  3.9154e-05\n",
            "  6  1.36523  4.98151e-06\n"
          ]
        }
      ]
    },
    {
      "cell_type": "markdown",
      "source": [
        "Concluimos que la raíz para la ecuación $x^3+4x^2-10=0$ es $x=1.36523$ con un error $\\varepsilon=4.9815\\times10^{-6}$"
      ],
      "metadata": {
        "id": "SixObi996FT0"
      }
    }
  ]
}