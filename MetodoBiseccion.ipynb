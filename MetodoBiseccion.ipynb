{
  "nbformat": 4,
  "nbformat_minor": 0,
  "metadata": {
    "colab": {
      "provenance": [],
      "authorship_tag": "ABX9TyOxwImisnf/CFqlPuJskx0w",
      "include_colab_link": true
    },
    "kernelspec": {
      "name": "python3",
      "display_name": "Python 3"
    },
    "language_info": {
      "name": "python"
    }
  },
  "cells": [
    {
      "cell_type": "markdown",
      "metadata": {
        "id": "view-in-github",
        "colab_type": "text"
      },
      "source": [
        "<a href=\"https://colab.research.google.com/github/maryandy2002/maryandy2002/blob/main/MetodoBiseccion.ipynb\" target=\"_parent\"><img src=\"https://colab.research.google.com/assets/colab-badge.svg\" alt=\"Open In Colab\"/></a>"
      ]
    },
    {
      "cell_type": "markdown",
      "source": [
        "# Método de bisección\n",
        "\n",
        "A continuación se muestra un código que permite encontrar la raíz entre el intervalo $a=1$ y $b=2$ para la función $f(x)=x^3+4x^2-10$ con una precision de $\\varepsilon<10^{-4}$ utilizando el método de bisección"
      ],
      "metadata": {
        "id": "FnsZ12_2P1F2"
      }
    },
    {
      "cell_type": "code",
      "execution_count": 77,
      "metadata": {
        "id": "MOyqdenJPyVc"
      },
      "outputs": [],
      "source": [
        "from tabulate import tabulate as tb"
      ]
    },
    {
      "cell_type": "markdown",
      "source": [
        "en este bloque se importo la librería $tabulate$ que nos permitira realizar una tabla al final de nuestro procedimiento que recopilará los resultados que se fueron obteniendo"
      ],
      "metadata": {
        "id": "GT7w9g9QyINY"
      }
    },
    {
      "cell_type": "code",
      "source": [
        "def funcion(x):\n",
        "  return x**3+4*x**2-10"
      ],
      "metadata": {
        "id": "HDHYe0uZQMIM"
      },
      "execution_count": 78,
      "outputs": []
    },
    {
      "cell_type": "markdown",
      "source": [
        "se define una funcion que será utilizada para ir evaluando valores en $f(x)$ fácilmente"
      ],
      "metadata": {
        "id": "SpPMYSBtyhQx"
      }
    },
    {
      "cell_type": "code",
      "source": [
        "a=[1]\n",
        "b=[2]\n",
        "n=[1]\n",
        "c=[0]\n",
        "e=[]\n",
        "f=[]"
      ],
      "metadata": {
        "id": "_qYy4k_PsV1u"
      },
      "execution_count": 79,
      "outputs": []
    },
    {
      "cell_type": "markdown",
      "source": [
        "aqui se inicializaron todas las variables que vamos a utilizar, son de tipo listas ya que esto nos facilitara ir guardando los resultados para poder tabularlos posterioirmente"
      ],
      "metadata": {
        "id": "ikd1BP0Uywvt"
      }
    },
    {
      "cell_type": "code",
      "source": [
        "\n",
        "while (True):\n",
        "  c.append(a[-1]+abs(b[-1]-a[-1])/2)\n",
        "  f.append(funcion(c[-1]))\n",
        "  if (f[-1]<0):\n",
        "    a.append(c[-1])\n",
        "    b.append(b[-1])\n",
        "  else:\n",
        "    b.append(c[-1])\n",
        "    a.append(a[-1])\n",
        "  e.append(abs(c[-1]-c[-2]))\n",
        "  if e[-1]<0.001:\n",
        "    break\n",
        "  n.append(n[-1]+1)\n",
        "c.pop(0)"
      ],
      "metadata": {
        "id": "xI4KYlNeTrDY"
      },
      "execution_count": 80,
      "outputs": []
    },
    {
      "cell_type": "markdown",
      "source": [
        "en este bloque se lleva a cabo todo el procedimiento del método de bisección, el cuál, para hasta que el error $\\varepsilon$ sea menor que $0.001$, mientras esto no ocurra la función va tomando el valor medio $c$ entre el intervalo $(a,b)$ y dependiendo del signo de la funcion evaluada $f(c)$ se renueva el nuevo intervalo para poder obtener un resultado cada vez mas preciso"
      ],
      "metadata": {
        "id": "_X8v6hvhzAQ_"
      }
    },
    {
      "cell_type": "code",
      "source": [
        "table = [n,a,b,c,f,e]\n",
        "print(tb((zip(*table)),headers=[\"n\",\"a\",\"b\",\"c\",\"f(c)\",\"e\"]))"
      ],
      "metadata": {
        "colab": {
          "base_uri": "https://localhost:8080/"
        },
        "id": "6NRML-LjiWml",
        "outputId": "7c5bd73e-cfac-4565-8b43-84383b297b10"
      },
      "execution_count": 82,
      "outputs": [
        {
          "output_type": "stream",
          "name": "stdout",
          "text": [
            "  n        a        b        c          f(c)            e\n",
            "---  -------  -------  -------  ------------  -----------\n",
            "  1  1        2        1.5       2.375        1.5\n",
            "  2  1        1.5      1.25     -1.79688      0.25\n",
            "  3  1.25     1.5      1.375     0.162109     0.125\n",
            "  4  1.25     1.375    1.3125   -0.848389     0.0625\n",
            "  5  1.3125   1.375    1.34375  -0.350983     0.03125\n",
            "  6  1.34375  1.375    1.35938  -0.0964088    0.015625\n",
            "  7  1.35938  1.375    1.36719   0.0323558    0.0078125\n",
            "  8  1.35938  1.36719  1.36328  -0.03215      0.00390625\n",
            "  9  1.36328  1.36719  1.36523   7.20248e-05  0.00195312\n",
            " 10  1.36328  1.36523  1.36426  -0.0160467    0.000976562\n"
          ]
        }
      ]
    },
    {
      "cell_type": "markdown",
      "source": [
        "finalmente aqui se tabularon nuestros resultados, esto nos permiten visualizar con facilidad como fue cambiando el valor de nuestra aproximacion a la raíz el cual es el ultimo dato en la columna $c$"
      ],
      "metadata": {
        "id": "nxpTMs180MiR"
      }
    },
    {
      "cell_type": "markdown",
      "source": [
        "Éstos resultados nos permiten concluir que para la funcion $f(x)=x^3+2x^2-10$ con un $\\varepsilon<10^{-4}$ es $c=1.3642$"
      ],
      "metadata": {
        "id": "L5fhEm4k1GRz"
      }
    }
  ]
}