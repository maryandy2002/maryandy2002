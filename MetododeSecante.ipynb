{
  "nbformat": 4,
  "nbformat_minor": 0,
  "metadata": {
    "colab": {
      "provenance": [],
      "authorship_tag": "ABX9TyMpLaoguvJKm43RQ607nWza",
      "include_colab_link": true
    },
    "kernelspec": {
      "name": "python3",
      "display_name": "Python 3"
    },
    "language_info": {
      "name": "python"
    }
  },
  "cells": [
    {
      "cell_type": "markdown",
      "metadata": {
        "id": "view-in-github",
        "colab_type": "text"
      },
      "source": [
        "<a href=\"https://colab.research.google.com/github/maryandy2002/maryandy2002/blob/main/MetododeSecante.ipynb\" target=\"_parent\"><img src=\"https://colab.research.google.com/assets/colab-badge.svg\" alt=\"Open In Colab\"/></a>"
      ]
    },
    {
      "cell_type": "markdown",
      "source": [
        "# Método de la Secante\n",
        "El método de la secante es un método numérico utilizado para encontrar aproximaciones a las raíces de una función $f(x)$. Se basa en la idea de reemplazar la derivada en el método de Newton por una aproximación de la pendiente usando dos puntos consecutivos de la función.\n",
        "\n",
        "Se realizara una aproximacion a la raiz de la funcion $f(x)=cos(x)-x$ utilizando el método de la secante con un $p_0=\\frac{1}{2}$ y $p_1=\\frac{\\pi}{4}$"
      ],
      "metadata": {
        "id": "vtlkt11Iiib_"
      }
    },
    {
      "cell_type": "markdown",
      "source": [
        "En este bloque importamos las librerías que se van a utilizar,\n",
        " para crear una tabla al final para visualizar los resultados y\n",
        " para codificar la función que usaremos para aproximar la raíz"
      ],
      "metadata": {
        "id": "jSoiNvBwjTRv"
      }
    },
    {
      "cell_type": "code",
      "execution_count": 32,
      "metadata": {
        "id": "cidGzUjFeZ76"
      },
      "outputs": [],
      "source": [
        "from tabulate import tabulate as tb\n",
        "import math as mt"
      ]
    },
    {
      "cell_type": "markdown",
      "source": [
        "Ahora se define la funcion $funcion$ que nos ayudara a calcular $f(x)$ fácilmente en cada una de nuestras iteraciones"
      ],
      "metadata": {
        "id": "ScL11AUjjZdG"
      }
    },
    {
      "cell_type": "code",
      "source": [
        "def funcion(x):\n",
        "  return mt.cos(x)-x"
      ],
      "metadata": {
        "id": "mSxieCoUhbCI"
      },
      "execution_count": 37,
      "outputs": []
    },
    {
      "cell_type": "markdown",
      "source": [
        "Aqui se definen nuestras listas\n",
        "$n$ para ir contando la cantidad de iteraciones,\n",
        "$e$ para ir calculando el error aproximado\n",
        "$p_0$ y $p_1$ donde"
      ],
      "metadata": {
        "id": "mTWjajCJjq_e"
      }
    },
    {
      "cell_type": "markdown",
      "source": [
        "$p_{i+1}=p_i-\\frac{f(p_i)(p_i-p_{i-1})}{f(p_i)-f(p_{i-1})}$ posteriormente se comienza con las iteraciones del metodo y los resultados se muestran en una tabla al final"
      ],
      "metadata": {
        "id": "-Sp-xw5tkaW-"
      }
    },
    {
      "cell_type": "code",
      "source": [
        "def Secante(p,pp,tol):\n",
        "  n=[0]\n",
        "  e=[0]\n",
        "  p0=[p]\n",
        "  p1=[pp]\n",
        "  while (True):\n",
        "    p1.append(p1[-1]-(funcion(p1[-1])*(p1[-1]-p0[-1])/(funcion(p1[-1])-funcion(p0[-1]))))\n",
        "    p0.append(p1[-2])\n",
        "    e.append(abs(p1[-1]-p1[-2]))\n",
        "    if (e[-1]<tol):\n",
        "     break\n",
        "    n.append(n[-1]+1)\n",
        "  table=[n,p0,p1,e]\n",
        "  print(tb((zip(*table)),headers=[\"n\",\"pi-1\",\"pi\",\"e\"]))"
      ],
      "metadata": {
        "id": "2mdMYZnxe0IA"
      },
      "execution_count": 45,
      "outputs": []
    },
    {
      "cell_type": "code",
      "source": [
        "Secante(0.5,mt.pi/4,1e-5)"
      ],
      "metadata": {
        "colab": {
          "base_uri": "https://localhost:8080/"
        },
        "id": "cZscgyb9u8P5",
        "outputId": "4c13034e-96dc-438f-c39b-44cc1128905c"
      },
      "execution_count": 46,
      "outputs": [
        {
          "output_type": "stream",
          "name": "stdout",
          "text": [
            "  n      pi-1        pi            e\n",
            "---  --------  --------  -----------\n",
            "  0  0.5       0.785398  0\n",
            "  1  0.785398  0.736384  0.049014\n",
            "  2  0.736384  0.739058  0.002674\n",
            "  3  0.739058  0.739085  2.70101e-05\n"
          ]
        }
      ]
    },
    {
      "cell_type": "markdown",
      "source": [
        "Así, podemos concluir que la raiz para la funcion $cos(x)-x$ es en $x=0.739085$ con un $\\varepsilon=0.00002$ el cual coincide con los resultados obtenidos en el código para el método de Newton"
      ],
      "metadata": {
        "id": "EeQr4xi2ktsO"
      }
    }
  ]
}