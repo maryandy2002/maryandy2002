{
  "nbformat": 4,
  "nbformat_minor": 0,
  "metadata": {
    "colab": {
      "provenance": [],
      "authorship_tag": "ABX9TyODxwibUXswjKkPciX+9VRA",
      "include_colab_link": true
    },
    "kernelspec": {
      "name": "python3",
      "display_name": "Python 3"
    },
    "language_info": {
      "name": "python"
    }
  },
  "cells": [
    {
      "cell_type": "markdown",
      "metadata": {
        "id": "view-in-github",
        "colab_type": "text"
      },
      "source": [
        "<a href=\"https://colab.research.google.com/github/maryandy2002/maryandy2002/blob/main/MetododeSecante.ipynb\" target=\"_parent\"><img src=\"https://colab.research.google.com/assets/colab-badge.svg\" alt=\"Open In Colab\"/></a>"
      ]
    },
    {
      "cell_type": "markdown",
      "source": [
        "# Método de la Secante\n",
        "Se realizara una aproximacion a la raiz de la funcion $f(x)=cos(x)-x$ utilizando el método de la secante con un $p_0=\\frac{1}{2}$ y $p_1=\\frac{\\pi}{4}$"
      ],
      "metadata": {
        "id": "vtlkt11Iiib_"
      }
    },
    {
      "cell_type": "markdown",
      "source": [
        "En este bloque importamos las librerías que se van a utilizar,\n",
        " para crear una tabla al final para visualizar los resultados y\n",
        " para codificar la función que usaremos para aproximar la raíz"
      ],
      "metadata": {
        "id": "jSoiNvBwjTRv"
      }
    },
    {
      "cell_type": "code",
      "execution_count": 32,
      "metadata": {
        "id": "cidGzUjFeZ76"
      },
      "outputs": [],
      "source": [
        "from tabulate import tabulate as tb\n",
        "import math as mt"
      ]
    },
    {
      "cell_type": "markdown",
      "source": [
        "Ahora se define la funcion $funcion$ que nos ayudara a calcular $f(x)$ fácilmente en cada una de nuestras iteraciones"
      ],
      "metadata": {
        "id": "ScL11AUjjZdG"
      }
    },
    {
      "cell_type": "code",
      "source": [
        "def funcion(x):\n",
        "  return mt.cos(x)-x"
      ],
      "metadata": {
        "id": "mSxieCoUhbCI"
      },
      "execution_count": 37,
      "outputs": []
    },
    {
      "cell_type": "markdown",
      "source": [
        "Aqui se definen nuestras listas\n",
        "$n$ para ir contando la cantidad de iteraciones,\n",
        "$e$ para ir calculando el error aproximado\n",
        "$p_0$ y $p_1$ donde"
      ],
      "metadata": {
        "id": "mTWjajCJjq_e"
      }
    },
    {
      "cell_type": "markdown",
      "source": [
        "$p_{i+1}=p_i-\\frac{f(p_i)(p_i-p_{i-1})}{f(p_i)-f(p_{i-1})}$"
      ],
      "metadata": {
        "id": "-Sp-xw5tkaW-"
      }
    },
    {
      "cell_type": "code",
      "source": [
        "n=[0]\n",
        "e=[0]\n",
        "p0=[0.5]\n",
        "p1=[mt.pi/4]"
      ],
      "metadata": {
        "id": "2mdMYZnxe0IA"
      },
      "execution_count": 38,
      "outputs": []
    },
    {
      "cell_type": "markdown",
      "source": [
        "En este bloque es donde se llevan a cabo todas las iteraciones del método de la secante"
      ],
      "metadata": {
        "id": "Pdw4aE99kcQu"
      }
    },
    {
      "cell_type": "code",
      "source": [
        "while (True):\n",
        "  p1.append(p1[-1]-(funcion(p1[-1])*(p1[-1]-p0[-1])/(funcion(p1[-1])-funcion(p0[-1]))))\n",
        "  p0.append(p1[-2])\n",
        "  e.append(abs(p1[-1]-p1[-2]))\n",
        "  if (e[-1]<0.000001):\n",
        "    break\n",
        "  n.append(n[-1]+1)"
      ],
      "metadata": {
        "id": "ikLrC8NNe4Sw"
      },
      "execution_count": 39,
      "outputs": []
    },
    {
      "cell_type": "markdown",
      "source": [
        "Finalmente aqui utilizmamos la librería $tabulate$ para hacer una recopilación de los resultados obtenidos en el proceso"
      ],
      "metadata": {
        "id": "N_vvEdNbkiWG"
      }
    },
    {
      "cell_type": "code",
      "source": [
        "table=[n,p,f,e]\n",
        "print(tb((zip(*table)),headers=[\"n\",\"pi\",\"p(i+1)\",\"e\"]))"
      ],
      "metadata": {
        "colab": {
          "base_uri": "https://localhost:8080/"
        },
        "id": "tE4WI-vse7yQ",
        "outputId": "88d66c67-ff6f-4787-d613-04d47b472a82"
      },
      "execution_count": 40,
      "outputs": [
        {
          "output_type": "stream",
          "name": "stdout",
          "text": [
            "  n        pi    p(i+1)            e\n",
            "---  --------  --------  -----------\n",
            "  0  0         1         0\n",
            "  1  1         0.750364  0.049014\n",
            "  2  0.750364  0.739113  0.002674\n",
            "  3  0.739113  0.739085  2.70101e-05\n"
          ]
        }
      ]
    },
    {
      "cell_type": "markdown",
      "source": [
        "Así, podemos concluir que la raiz para la funcion $cos(x)-x$ es en $x=0.739085$ con un $\\varepsilon=0.00002$ el cual coincide con los resultados obtenidos en el código para el método de Newton"
      ],
      "metadata": {
        "id": "EeQr4xi2ktsO"
      }
    }
  ]
}