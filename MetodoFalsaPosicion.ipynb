{
  "nbformat": 4,
  "nbformat_minor": 0,
  "metadata": {
    "colab": {
      "provenance": [],
      "authorship_tag": "ABX9TyNVHwmcpExytpOnklQ5aWDK",
      "include_colab_link": true
    },
    "kernelspec": {
      "name": "python3",
      "display_name": "Python 3"
    },
    "language_info": {
      "name": "python"
    }
  },
  "cells": [
    {
      "cell_type": "markdown",
      "metadata": {
        "id": "view-in-github",
        "colab_type": "text"
      },
      "source": [
        "<a href=\"https://colab.research.google.com/github/maryandy2002/maryandy2002/blob/main/MetodoFalsaPosicion.ipynb\" target=\"_parent\"><img src=\"https://colab.research.google.com/assets/colab-badge.svg\" alt=\"Open In Colab\"/></a>"
      ]
    },
    {
      "cell_type": "markdown",
      "source": [
        "# Método de Falsa Posición\n",
        "A continuación se muestra un código que permite encontrar la raíz entre el intervalo $a=0.5$ y $b=\\frac{\\pi}{4}$ para la función $f(x)=cos(x)-x$ con una precision de $\\varepsilon<10^{-5}$ utilizando el método de falsa posición"
      ],
      "metadata": {
        "id": "vHE6589CmfTV"
      }
    },
    {
      "cell_type": "code",
      "execution_count": 5,
      "metadata": {
        "id": "H6LpfaSVctGV"
      },
      "outputs": [],
      "source": [
        "import numpy as np\n",
        "from tabulate import tabulate as tb\n",
        "import math as mt\n"
      ]
    },
    {
      "cell_type": "markdown",
      "source": [
        "en este bloque se importo la librería $tabulate$ que nos permitira realizar una tabla al final de nuestro procedimiento que recopilará los resultados que se fueron obteniendo"
      ],
      "metadata": {
        "id": "jvKURUrYoHuK"
      }
    },
    {
      "cell_type": "code",
      "source": [
        "def funcion(x):\n",
        "  return np.cos(x)-x"
      ],
      "metadata": {
        "id": "A_U4RF-7c52W"
      },
      "execution_count": 3,
      "outputs": []
    },
    {
      "cell_type": "markdown",
      "source": [
        "se define una funcion que será utilizada para ir evaluando valores en $f(x)$ fácilmente"
      ],
      "metadata": {
        "id": "GhnX22KDoQNA"
      }
    },
    {
      "cell_type": "code",
      "source": [
        "a=[0.5]\n",
        "b=[mt.pi/4]\n",
        "n=[1]\n",
        "c=[0]\n",
        "e=[]\n",
        "f=[]"
      ],
      "metadata": {
        "id": "OjhNIbKdd7J5"
      },
      "execution_count": 28,
      "outputs": []
    },
    {
      "cell_type": "markdown",
      "source": [
        "aqui se inicializaron todas las variables que vamos a utilizar, son de tipo lista ya que esto nos facilitara tabular los resultados posteriormente"
      ],
      "metadata": {
        "id": "1Be9DxLfoYa-"
      }
    },
    {
      "cell_type": "code",
      "source": [
        "while (True):\n",
        "  c.append((a[-1]*funcion(b[-1])-b[-1]*funcion(a[-1]))/(funcion(b[-1])-funcion(a[-1])))\n",
        "  f.append(funcion(c[-1]))\n",
        "  if (f[-1]*funcion(a[-1])<0):\n",
        "    a.append(a[-1])\n",
        "    b.append(c[-1])\n",
        "  else:\n",
        "    b.append(b[-1])\n",
        "    a.append(c[-1])\n",
        "  e.append(abs(c[-1]-c[-2]))\n",
        "  if e[-1]<0.00001:\n",
        "    break\n",
        "  n.append(n[-1]+1)\n",
        "c.pop(0)"
      ],
      "metadata": {
        "colab": {
          "base_uri": "https://localhost:8080/"
        },
        "id": "5lOeuR9sfgcT",
        "outputId": "dbbe4ff6-7141-4d02-f718-81cc24164fac"
      },
      "execution_count": 29,
      "outputs": [
        {
          "output_type": "execute_result",
          "data": {
            "text/plain": [
              "0"
            ]
          },
          "metadata": {},
          "execution_count": 29
        }
      ]
    },
    {
      "cell_type": "markdown",
      "source": [
        "en este bloque se lleva a cabo todo el procedimiento del método de falsa posición, el cuál, para hasta que el error $\\varepsilon$ sea menor que $0.00001$, mientras esto no ocurra se va tomando el valor de $c$ en el que la recta que une a los puntos $(a,f(a))$ y $(b,f(b))$ interseca con el eje $x$, es decir cuando $y=0$ y dependiendo del signo de la funcion evaluada\n",
        "$f(c)$ se renueva el nuevo intervalo para poder obtener un resultado cada vez mas preciso"
      ],
      "metadata": {
        "id": "IfVymMtSoze3"
      }
    },
    {
      "cell_type": "code",
      "source": [
        "table = [n,a,b,c,f,e]\n",
        "print(tb((zip(*table)),headers=[\"n\",\"a\",\"b\",\"c\",\"f(c)\",\"e\"]))"
      ],
      "metadata": {
        "colab": {
          "base_uri": "https://localhost:8080/"
        },
        "id": "jVq22cUkgcMR",
        "outputId": "9397808f-7843-4aac-a9dd-fd72bdb15501"
      },
      "execution_count": 30,
      "outputs": [
        {
          "output_type": "stream",
          "name": "stdout",
          "text": [
            "  n         a         b         c         f(c)            e\n",
            "---  --------  --------  --------  -----------  -----------\n",
            "  1  0.5       0.785398  0.736384  0.00451772   0.736384\n",
            "  2  0.736384  0.785398  0.739058  4.51772e-05  0.002674\n",
            "  3  0.739058  0.785398  0.739085  4.50872e-07  2.67246e-05\n",
            "  4  0.739085  0.785398  0.739085  4.49964e-09  2.66712e-07\n"
          ]
        }
      ]
    },
    {
      "cell_type": "markdown",
      "source": [
        "finalmente aqui se tabularon nuestros resultados, esto nos permiten visualizar con facilidad como fue cambiando el valor de nuestra aproximacion a la raíz el cual es el ultimo dato en la columna $c$"
      ],
      "metadata": {
        "id": "9nptryC4qAuQ"
      }
    },
    {
      "cell_type": "markdown",
      "source": [
        "Éstos resultados nos permiten concluir que para la funcion $f(x)=cos(x)-x$ con un $\\varepsilon<10^{-5}$ es $c=0.739085$"
      ],
      "metadata": {
        "id": "WP-rKAgaqIHG"
      }
    }
  ]
}