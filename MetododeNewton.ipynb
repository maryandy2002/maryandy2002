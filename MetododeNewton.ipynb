{
  "nbformat": 4,
  "nbformat_minor": 0,
  "metadata": {
    "colab": {
      "provenance": [],
      "authorship_tag": "ABX9TyMN0hOvc3HbMltNYJzaTXAa",
      "include_colab_link": true
    },
    "kernelspec": {
      "name": "python3",
      "display_name": "Python 3"
    },
    "language_info": {
      "name": "python"
    }
  },
  "cells": [
    {
      "cell_type": "markdown",
      "metadata": {
        "id": "view-in-github",
        "colab_type": "text"
      },
      "source": [
        "<a href=\"https://colab.research.google.com/github/maryandy2002/maryandy2002/blob/main/MetododeNewton.ipynb\" target=\"_parent\"><img src=\"https://colab.research.google.com/assets/colab-badge.svg\" alt=\"Open In Colab\"/></a>"
      ]
    },
    {
      "cell_type": "markdown",
      "source": [
        "# Método de Newton\n",
        "Se realizara una aproximacion a la raiz de la funcion $f(x)=cos(x)-x$ utilizando el método de Newton con un $p_0=0$"
      ],
      "metadata": {
        "id": "vtlkt11Iiib_"
      }
    },
    {
      "cell_type": "markdown",
      "source": [
        "En este bloque importamos las librerías que se van a utilizar,\n",
        " para crear una tabla al final para visualizar los resultados y\n",
        " para codificar la función que usaremos para aproximar la raíz"
      ],
      "metadata": {
        "id": "jSoiNvBwjTRv"
      }
    },
    {
      "cell_type": "code",
      "execution_count": 17,
      "metadata": {
        "id": "cidGzUjFeZ76"
      },
      "outputs": [],
      "source": [
        "from tabulate import tabulate as tb\n",
        "import math as mt"
      ]
    },
    {
      "cell_type": "markdown",
      "source": [
        "Ahora se definen las funciones $funcion$ y $dfuncion$ que guardan la funcion $f(x)$ y $f´(x)$ respectivamente"
      ],
      "metadata": {
        "id": "ScL11AUjjZdG"
      }
    },
    {
      "cell_type": "code",
      "source": [
        "def funcion(x):\n",
        "  return mt.cos(x)-x\n",
        "def dfuncion(x):\n",
        "  return (-1)*mt.sin(x)-1"
      ],
      "metadata": {
        "id": "mSxieCoUhbCI"
      },
      "execution_count": 18,
      "outputs": []
    },
    {
      "cell_type": "markdown",
      "source": [
        "Aqui se definen nuestras listas\n",
        "$n$ para ir contando la cantidad de iteraciones,\n",
        "$e$ para ir calculando el error aproximado\n",
        "$p$ que es donde iremos guardando las aproximaciones a la raíz que vayamos obteniendo y\n",
        "$f$ es donde realizaremos las iteraciones del método de Newton usando que"
      ],
      "metadata": {
        "id": "mTWjajCJjq_e"
      }
    },
    {
      "cell_type": "markdown",
      "source": [
        "$p_{i+1}=p_i-\\frac{f(p_i)}{f´(p_i)}$"
      ],
      "metadata": {
        "id": "-Sp-xw5tkaW-"
      }
    },
    {
      "cell_type": "code",
      "source": [
        "n=[0]\n",
        "e=[0]\n",
        "p=[0]\n",
        "f=[]"
      ],
      "metadata": {
        "id": "2mdMYZnxe0IA"
      },
      "execution_count": 29,
      "outputs": []
    },
    {
      "cell_type": "markdown",
      "source": [
        "En este bloque es donde se llevan a cabo todas las iteraciones del método de Newton"
      ],
      "metadata": {
        "id": "Pdw4aE99kcQu"
      }
    },
    {
      "cell_type": "code",
      "source": [
        "while (True):\n",
        "  f.append(p[-1]-(funcion(p[-1])/dfuncion(p[-1])))\n",
        "  p.append(f[-1])\n",
        "  e.append(abs(p[-1]-p[-2]))\n",
        "  if (e[-1]<0.000001):\n",
        "    break\n",
        "  n.append(n[-1]+1)"
      ],
      "metadata": {
        "id": "ikLrC8NNe4Sw"
      },
      "execution_count": 30,
      "outputs": []
    },
    {
      "cell_type": "markdown",
      "source": [
        "Finalmente aqui utilizmamos la librería $tabulate$ para hacer una recopilación de los resultados obtenidos en el proceso"
      ],
      "metadata": {
        "id": "N_vvEdNbkiWG"
      }
    },
    {
      "cell_type": "code",
      "source": [
        "table=[n,p,f,e]\n",
        "print(tb((zip(*table)),headers=[\"n\",\"pi\",\"p(i+1)\",\"e\"]))"
      ],
      "metadata": {
        "colab": {
          "base_uri": "https://localhost:8080/"
        },
        "id": "tE4WI-vse7yQ",
        "outputId": "8776dd82-b119-40e5-ba38-77c376703c73"
      },
      "execution_count": 31,
      "outputs": [
        {
          "output_type": "stream",
          "name": "stdout",
          "text": [
            "  n        pi    p(i+1)            e\n",
            "---  --------  --------  -----------\n",
            "  0  0         1         0\n",
            "  1  1         0.750364  1\n",
            "  2  0.750364  0.739113  0.249636\n",
            "  3  0.739113  0.739085  0.011251\n",
            "  4  0.739085  0.739085  2.77575e-05\n"
          ]
        }
      ]
    },
    {
      "cell_type": "markdown",
      "source": [
        "Así, podemos concluir que la raiz para la funcion $cos(x)-x$ es en $x=0.739085$ con un $\\varepsilon=0.00002$"
      ],
      "metadata": {
        "id": "EeQr4xi2ktsO"
      }
    }
  ]
}